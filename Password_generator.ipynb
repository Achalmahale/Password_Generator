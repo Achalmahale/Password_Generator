{
 "cells": [
  {
   "cell_type": "code",
   "execution_count": 49,
   "metadata": {},
   "outputs": [
    {
     "name": "stdout",
     "output_type": "stream",
     "text": [
      "QQ|:=BaV5hvh\n"
     ]
    }
   ],
   "source": [
    "import random\n",
    "import array"
   ]
  },
  {
   "cell_type": "code",
   "execution_count": 52,
   "metadata": {},
   "outputs": [],
   "source": [
    "# setting the maximum length of password\n",
    "# can be edited by choice\n",
    "MAX_LEN = 12"
   ]
  },
  {
   "cell_type": "code",
   "execution_count": 54,
   "metadata": {},
   "outputs": [],
   "source": [
    "# the arrays of the character needed in out password\n",
    "DIGITS = ['0', '1', '2', '3', '4', '5', '6', '7', '8', '9']\n",
    "LOCASE_CHARACTERS = ['a', 'b', 'c', 'd', 'e', 'f', 'g', 'h',\n",
    "\t\t\t\t\t'i', 'j', 'k', 'm', 'n', 'o', 'p', 'q',\n",
    "\t\t\t\t\t'r', 's', 't', 'u', 'v', 'w', 'x', 'y',\n",
    "\t\t\t\t\t'z']\n",
    "\n",
    "UPCASE_CHARACTERS = ['A', 'B', 'C', 'D', 'E', 'F', 'G', 'H',\n",
    "\t\t\t\t\t'I', 'J', 'K', 'M', 'N', 'O', 'p', 'Q',\n",
    "\t\t\t\t\t'R', 'S', 'T', 'U', 'V', 'W', 'X', 'Y',\n",
    "\t\t\t\t\t'Z']\n",
    "\n",
    "SYMBOLS = ['@', '#', '$', '%', '=', ':', '?', '.', '/', '|', '~', '>',\n",
    "\t\t'*', '(', ')', '<']\n"
   ]
  },
  {
   "cell_type": "code",
   "execution_count": 56,
   "metadata": {},
   "outputs": [],
   "source": [
    "# combine list of all the character above to form one array\n",
    "COMBINED_LIST = DIGITS + UPCASE_CHARACTERS + LOCASE_CHARACTERS + SYMBOLS\n",
    "\n",
    "# randomly select at least one character from each character set above\n",
    "rand_digit = random.choice(DIGITS)\n",
    "rand_upper = random.choice(UPCASE_CHARACTERS)\n",
    "rand_lower = random.choice(LOCASE_CHARACTERS)\n",
    "rand_symbol = random.choice(SYMBOLS)\n",
    "\n",
    "# combine the character randomly selected above\n",
    "# at this stage, the password contains only 4 characters but\n",
    "# we want a 12-character password\n",
    "temp_pass = rand_digit + rand_upper + rand_lower + rand_symbol"
   ]
  },
  {
   "cell_type": "code",
   "execution_count": 58,
   "metadata": {},
   "outputs": [],
   "source": [
    "# now that we are sure we have at least one character from each\n",
    "# set of characters, we fill the rest of\n",
    "# the password length by selecting randomly from the combined\n",
    "# list of character above.\n",
    "for x in range(MAX_LEN - 4):\n",
    "\ttemp_pass = temp_pass + random.choice(COMBINED_LIST)\n",
    "\n",
    "\t# convert temporary password into array and shuffle to\n",
    "\t# prevent it from having a consistent pattern\n",
    "\t# where the beginning of the password is predictable\n",
    "\ttemp_pass_list = array.array('u', temp_pass)\n",
    "\trandom.shuffle(temp_pass_list)\n"
   ]
  },
  {
   "cell_type": "code",
   "execution_count": 61,
   "metadata": {},
   "outputs": [
    {
     "name": "stdout",
     "output_type": "stream",
     "text": [
      "#t@78Fw:joAw%Bs1U8x$\n"
     ]
    }
   ],
   "source": [
    "# traverse the temporary password array and append the chars\n",
    "# to form the password\n",
    "password = \"\"\n",
    "for x in temp_pass_list:\n",
    "\t\tpassword = password + x\n",
    "\t\t\n",
    "# print out password\n",
    "print(password)"
   ]
  }
 ],
 "metadata": {
  "interpreter": {
   "hash": "ee63d3efcf3b5897bd66420a5b82f4fa409146db8e42402bb3095e877edbcfa2"
  },
  "kernelspec": {
   "display_name": "Python 3.10.1 64-bit",
   "language": "python",
   "name": "python3"
  },
  "language_info": {
   "codemirror_mode": {
    "name": "ipython",
    "version": 3
   },
   "file_extension": ".py",
   "mimetype": "text/x-python",
   "name": "python",
   "nbconvert_exporter": "python",
   "pygments_lexer": "ipython3",
   "version": "3.10.1"
  },
  "orig_nbformat": 4
 },
 "nbformat": 4,
 "nbformat_minor": 2
}
